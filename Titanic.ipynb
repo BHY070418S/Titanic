{
 "cells": [
  {
   "cell_type": "code",
   "execution_count": 94,
   "metadata": {
    "collapsed": true
   },
   "outputs": [],
   "source": [
    "import pandas as pd\n",
    "import numpy as np \n",
    "from sklearn.ensemble import RandomForestClassifier\n"
   ]
  },
  {
   "cell_type": "code",
   "execution_count": 95,
   "metadata": {
    "collapsed": true
   },
   "outputs": [],
   "source": [
    "dp = pd.read_csv('train.csv')\n",
    "age = dp['Age']\n",
    "age[~age.isnull()]\n",
    "#age.describe() #decribe column for statiscial value\n",
    "no_null_set = dp.dropna()\n",
    "Y = no_null_set['Survived']\n",
    "X = no_null_set[no_null_set.columns.difference(['Survived'])]\n",
    "\n",
    "#female is 0; male is 1\n",
    "train_data = pd.concat([X,pd.get_dummies(X['Sex'])], axis = 1)\n",
    "train_data = train_data[train_data.columns.difference(['Embarked','Sex','Name','female','Cabin','Ticket'])]\n",
    "train_data = train_data.rename(columns=lambda x: x.replace('male', 'Sex'))"
   ]
  },
  {
   "cell_type": "code",
   "execution_count": 96,
   "metadata": {},
   "outputs": [
    {
     "data": {
      "text/plain": [
       "RandomForestClassifier(bootstrap=True, class_weight=None, criterion='gini',\n",
       "            max_depth=None, max_features='auto', max_leaf_nodes=None,\n",
       "            min_impurity_decrease=0.0, min_impurity_split=None,\n",
       "            min_samples_leaf=1, min_samples_split=2,\n",
       "            min_weight_fraction_leaf=0.0, n_estimators=100, n_jobs=1,\n",
       "            oob_score=False, random_state=None, verbose=0,\n",
       "            warm_start=False)"
      ]
     },
     "execution_count": 96,
     "metadata": {},
     "output_type": "execute_result"
    }
   ],
   "source": [
    "model = RandomForestClassifier(n_estimators = 100)\n",
    "model.fit(train_data,Y)"
   ]
  },
  {
   "cell_type": "code",
   "execution_count": 97,
   "metadata": {
    "collapsed": true
   },
   "outputs": [],
   "source": [
    "# preparing testing data\n",
    "test_data = pd.concat([dp[dp.columns.difference(['Survived'])],pd.get_dummies(dp['Sex'])], axis = 1)\n",
    "test_data = test_data[test_data.columns.difference(['Embarked','Sex','Name','female','Cabin','Ticket'])]\n",
    "test_data = test_data.rename(columns=lambda x: x.replace('male', 'Sex'))\n",
    "test_data = test_data.fillna(-1)\n",
    "test_result = dp['Survived']"
   ]
  },
  {
   "cell_type": "code",
   "execution_count": 98,
   "metadata": {},
   "outputs": [
    {
     "data": {
      "text/plain": [
       "0.64983164983164987"
      ]
     },
     "execution_count": 98,
     "metadata": {},
     "output_type": "execute_result"
    }
   ],
   "source": [
    "from sklearn.metrics import accuracy_score\n",
    "accuracy_score(test_result, model.predict(test_data))"
   ]
  },
  {
   "cell_type": "code",
   "execution_count": 99,
   "metadata": {
    "collapsed": true
   },
   "outputs": [],
   "source": [
    "test = pd.read_csv('test.csv')\n",
    "test = pd.concat([test,pd.get_dummies(test['Sex'])], axis = 1)\n",
    "test = test[test.columns.difference(['Embarked','Sex','Name','female','Cabin','Ticket'])]\n",
    "no_null_test = test.dropna()\n",
    "prediction = model.predict(no_null_test)\n",
    "prediction = {'PassengerId': no_null_test['PassengerId'], 'Survived': prediction}\n",
    "pd.DataFrame(prediction).to_csv('prediction.csv', index = False)"
   ]
  },
  {
   "cell_type": "code",
   "execution_count": null,
   "metadata": {
    "collapsed": true
   },
   "outputs": [],
   "source": []
  }
 ],
 "metadata": {
  "kernelspec": {
   "display_name": "Python 3",
   "language": "python",
   "name": "python3"
  },
  "language_info": {
   "codemirror_mode": {
    "name": "ipython",
    "version": 3
   },
   "file_extension": ".py",
   "mimetype": "text/x-python",
   "name": "python",
   "nbconvert_exporter": "python",
   "pygments_lexer": "ipython3",
   "version": "3.6.3"
  }
 },
 "nbformat": 4,
 "nbformat_minor": 2
}
